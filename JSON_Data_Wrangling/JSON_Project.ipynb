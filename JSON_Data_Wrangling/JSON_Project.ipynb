{
 "cells": [
  {
   "cell_type": "code",
   "execution_count": 386,
   "metadata": {
    "collapsed": false
   },
   "outputs": [],
   "source": [
    "import pandas as pd\n",
    "import numpy as np\n",
    "from collections import defaultdict\n",
    "import json\n",
    "from pandas.io.json import json_normalize"
   ]
  },
  {
   "cell_type": "markdown",
   "metadata": {},
   "source": [
    "<h2 style=\"color:#A0A0A0\">Normalization of the data</h2>\n",
    "<p>Importing the data from a json into python</p>"
   ]
  },
  {
   "cell_type": "code",
   "execution_count": 387,
   "metadata": {
    "collapsed": false
   },
   "outputs": [],
   "source": [
    "#imports the data locally\n",
    "with open('world_bank_projects.json') as file:\n",
    "    raw_data = json.load(file)"
   ]
  },
  {
   "cell_type": "markdown",
   "metadata": {},
   "source": [
    "<h2 style=\"color:#A0A0A0\">Display Top Countries</h2>\n",
    "<p>This section shows the countries with the top number of projects</p>"
   ]
  },
  {
   "cell_type": "code",
   "execution_count": 388,
   "metadata": {
    "collapsed": false
   },
   "outputs": [
    {
     "name": "stdout",
     "output_type": "stream",
     "text": [
      "People's Republic of China         19\n",
      "Republic of Indonesia              19\n",
      "Socialist Republic of Vietnam      17\n",
      "Republic of India                  16\n",
      "Republic of Yemen                  13\n",
      "Kingdom of Morocco                 12\n",
      "People's Republic of Bangladesh    12\n",
      "Nepal                              12\n",
      "Republic of Mozambique             11\n",
      "Africa                             11\n",
      "Name: countryname, dtype: int64\n"
     ]
    }
   ],
   "source": [
    "#changes the 'countryname' column to category type. Sets id to oid \n",
    "data = json_normalize(raw_data)\n",
    "data['countryname'].astype('category')\n",
    "data.set_index('_id.$oid')\n",
    "print(data.countryname.value_counts()[:10])"
   ]
  },
  {
   "cell_type": "markdown",
   "metadata": {},
   "source": [
    "<h2 style=\"color:#A0A0A0\">Displaying The Most Popular Themes</h2>\n",
    "<p>The project themes are easier to analyze if extracted into a new dataframe.</p>"
   ]
  },
  {
   "cell_type": "code",
   "execution_count": 389,
   "metadata": {
    "collapsed": false
   },
   "outputs": [],
   "source": [
    "#removes the dictionary from the list, and creates a new DataFrame for it.\n",
    "data['mjtheme_namecode'] = data['mjtheme_namecode'].apply(lambda x: x[0])"
   ]
  },
  {
   "cell_type": "code",
   "execution_count": 390,
   "metadata": {
    "collapsed": false
   },
   "outputs": [],
   "source": [
    "project_themes = json_normalize(list(data.mjtheme_namecode))"
   ]
  },
  {
   "cell_type": "code",
   "execution_count": 391,
   "metadata": {
    "collapsed": false
   },
   "outputs": [
    {
     "data": {
      "text/plain": [
       "Environment and natural resources management    85\n",
       "Human development                               72\n",
       "Public sector governance                        64\n",
       "Social protection and risk management           57\n",
       "Rural development                               56\n",
       "Financial and private sector development        53\n",
       "Social dev/gender/inclusion                     43\n",
       "Trade and integration                           25\n",
       "Urban development                               23\n",
       "Economic management                             11\n",
       "Name: name, dtype: int64"
      ]
     },
     "execution_count": 391,
     "metadata": {},
     "output_type": "execute_result"
    }
   ],
   "source": [
    "project_themes.name.value_counts()[:10]"
   ]
  },
  {
   "cell_type": "markdown",
   "metadata": {},
   "source": [
    "<h2 style=\"color:#A0A0A0\"> Filling In Missing Values</h2>\n",
    "<p> Filling in the missing values by using the code in the 'Code' Column</p>"
   ]
  },
  {
   "cell_type": "code",
   "execution_count": 392,
   "metadata": {
    "collapsed": false
   },
   "outputs": [],
   "source": [
    "#changes the code type to category, and renames the 'name' category to 'type', to avoid any namespace collisions.\n",
    "#uses a regex pattern to replace empty unicode strings with NaN and makes a dictionary with code, name key value pairs.\n",
    "project_themes.code.astype('category')\n",
    "project_themes.columns = ['code','types']\n",
    "project_themes.types.replace(ur'^\\s*$',np.nan, regex=True)\n",
    "fill={\n",
    "for num in project_themes.code.unique():\n",
    "    fill[num] = project_themes.types[project_themes.code == num].iloc[1]"
   ]
  },
  {
   "cell_type": "markdown",
   "metadata": {},
   "source": [
    "<p>This part applies a function to fill the missing data with the name, based off the code number.</p>"
   ]
  },
  {
   "cell_type": "code",
   "execution_count": 393,
   "metadata": {
    "collapsed": false
   },
   "outputs": [
    {
     "name": "stdout",
     "output_type": "stream",
     "text": [
      "                                         code  \\\n",
      "0                                           8   \n",
      "1                                           1   \n",
      "2                                           5   \n",
      "3                                           7   \n",
      "4                                           5   \n",
      "5                                           6   \n",
      "6                                           2   \n",
      "7                                          11   \n",
      "8                                          10   \n",
      "9                                           2   \n",
      "10                                         10   \n",
      "11                                         10   \n",
      "12   Financial and private sector development   \n",
      "13                                          5   \n",
      "14                                          6   \n",
      "15                                         10   \n",
      "16                                         10   \n",
      "17                                          8   \n",
      "18                                          8   \n",
      "19                                          2   \n",
      "20                                          7   \n",
      "21                                          9   \n",
      "22                                          7   \n",
      "23                                          8   \n",
      "24                                         10   \n",
      "25                                         11   \n",
      "26                                          4   \n",
      "27                                         11   \n",
      "28                                         10   \n",
      "29                                          7   \n",
      "..                                        ...   \n",
      "470                                         5   \n",
      "471                                        10   \n",
      "472                                        11   \n",
      "473                                        11   \n",
      "474                                         9   \n",
      "475                                         4   \n",
      "476                                        10   \n",
      "477                                         4   \n",
      "478                                         2   \n",
      "479                                         7   \n",
      "480                                         2   \n",
      "481                                         8   \n",
      "482                                        10   \n",
      "483                                        11   \n",
      "484                                        10   \n",
      "485                                         8   \n",
      "486                                         2   \n",
      "487                                        11   \n",
      "488                                         8   \n",
      "489                                         9   \n",
      "490                                         2   \n",
      "491                                        10   \n",
      "492                                         8   \n",
      "493                                        11   \n",
      "494                                         6   \n",
      "495                                         4   \n",
      "496                                         8   \n",
      "497                                        10   \n",
      "498                                        10   \n",
      "499                                         9   \n",
      "\n",
      "                                            types  \n",
      "0                               Human development  \n",
      "1                             Economic management  \n",
      "2                           Trade and integration  \n",
      "3                     Social dev/gender/inclusion  \n",
      "4                           Trade and integration  \n",
      "5           Social protection and risk management  \n",
      "6                        Public sector governance  \n",
      "7    Environment and natural resources management  \n",
      "8                               Rural development  \n",
      "9                        Public sector governance  \n",
      "10                              Rural development  \n",
      "11                              Rural development  \n",
      "12       Financial and private sector development  \n",
      "13                          Trade and integration  \n",
      "14          Social protection and risk management  \n",
      "15                              Rural development  \n",
      "16                              Rural development  \n",
      "17                              Human development  \n",
      "18                              Human development  \n",
      "19                       Public sector governance  \n",
      "20                    Social dev/gender/inclusion  \n",
      "21                              Urban development  \n",
      "22                    Social dev/gender/inclusion  \n",
      "23                              Human development  \n",
      "24                              Rural development  \n",
      "25   Environment and natural resources management  \n",
      "26       Financial and private sector development  \n",
      "27   Environment and natural resources management  \n",
      "28                              Rural development  \n",
      "29                    Social dev/gender/inclusion  \n",
      "..                                            ...  \n",
      "470                         Trade and integration  \n",
      "471                             Rural development  \n",
      "472  Environment and natural resources management  \n",
      "473  Environment and natural resources management  \n",
      "474                             Urban development  \n",
      "475      Financial and private sector development  \n",
      "476                             Rural development  \n",
      "477      Financial and private sector development  \n",
      "478                      Public sector governance  \n",
      "479                   Social dev/gender/inclusion  \n",
      "480                      Public sector governance  \n",
      "481                             Human development  \n",
      "482                             Rural development  \n",
      "483  Environment and natural resources management  \n",
      "484                             Rural development  \n",
      "485                             Human development  \n",
      "486                      Public sector governance  \n",
      "487  Environment and natural resources management  \n",
      "488                             Human development  \n",
      "489                             Urban development  \n",
      "490                      Public sector governance  \n",
      "491                             Rural development  \n",
      "492                             Human development  \n",
      "493  Environment and natural resources management  \n",
      "494         Social protection and risk management  \n",
      "495      Financial and private sector development  \n",
      "496                             Human development  \n",
      "497                             Rural development  \n",
      "498                             Rural development  \n",
      "499                             Urban development  \n",
      "\n",
      "[500 rows x 2 columns]\n"
     ]
    }
   ],
   "source": [
    "#function for apply to replace NaN values with the value from the dictionary\n",
    "def fill_data(row):\n",
    "    if row['types'] == u'': \n",
    "        return fill[row['code']]\n",
    "    else: return row\n",
    "print(project_themes.apply(fill_data,axis=1))"
   ]
  }
 ],
 "metadata": {
  "kernelspec": {
   "display_name": "Python 2",
   "language": "python",
   "name": "python2"
  },
  "language_info": {
   "codemirror_mode": {
    "name": "ipython",
    "version": 2
   },
   "file_extension": ".py",
   "mimetype": "text/x-python",
   "name": "python",
   "nbconvert_exporter": "python",
   "pygments_lexer": "ipython2",
   "version": "2.7.14"
  }
 },
 "nbformat": 4,
 "nbformat_minor": 0
}
