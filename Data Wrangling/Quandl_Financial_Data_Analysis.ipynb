{
 "cells": [
  {
   "cell_type": "markdown",
   "metadata": {
    "collapsed": true
   },
   "source": [
    "<h2 style=\"color: blue;\">API Data Wrangling</h2>\n",
    "<p>This notebook does data wrangling using financia data from the Quandl API. The API token has been removed. The code was made as reusable as possible, while still being specific to a dataset.</p>"
   ]
  },
  {
   "cell_type": "code",
   "execution_count": 4,
   "metadata": {
    "collapsed": true
   },
   "outputs": [],
   "source": [
    "import requests\n",
    "from collections import defaultdict\n",
    "import re"
   ]
  },
  {
   "cell_type": "code",
   "execution_count": 5,
   "metadata": {},
   "outputs": [],
   "source": [
    "#Insert your API here. As long as it's valid, the rest of the code will do the rest. API=''\n",
    "API='dGjLh4ex4BaPJEGF-xi8'\n",
    "url = 'https://www.quandl.com/api/v3/datasets/FSE/AFX_X/data.json?{!s}'.format(API)"
   ]
  },
  {
   "cell_type": "markdown",
   "metadata": {},
   "source": [
    "<h3 style=\"color: blue;\">Extracting 2018 Data</h3>\n",
    "<p>This function does the data wrangling. It takes an API and queries the Quandl AFX_X database.\n",
    "    It returns a list of all rows of data from 2018.</p>"
   ]
  },
  {
   "cell_type": "code",
   "execution_count": 34,
   "metadata": {},
   "outputs": [],
   "source": [
    "def financial_data_by_year(api,*args):\n",
    "    \"\"\"Updated to be more flexible. List is passed and returned filled with data from the year passed\"\"\"\n",
    "    url = 'https://www.quandl.com/api/v3/datasets/FSE/AFX_X/data.json?{!s}'.format(api)\n",
    "    jsondict = defaultdict(list)\n",
    "    data = requests.get(url).json()['dataset_data']\n",
    "    for arg in args:\n",
    "        pattern = u'{!s}'.format(arg)\n",
    "        string = re.compile(pattern)\n",
    "        for row in data['data']:\n",
    "            if string.match(row[0]):\n",
    "                jsondict[arg].append(row)\n",
    "    return jsondict"
   ]
  },
  {
   "cell_type": "markdown",
   "metadata": {},
   "source": [
    "<p>This is the instantiation that contains the list of rows from 2018</p>"
   ]
  },
  {
   "cell_type": "code",
   "execution_count": 35,
   "metadata": {},
   "outputs": [],
   "source": [
    "result=financial_data_by_year(API,2018)"
   ]
  },
  {
   "cell_type": "markdown",
   "metadata": {},
   "source": [
    "<h3 style=\"color: blue;\">Converting Json to a Dict</h3>\n",
    "<p>This section turns the json dataset into a python dictionary</p>"
   ]
  },
  {
   "cell_type": "code",
   "execution_count": 45,
   "metadata": {},
   "outputs": [],
   "source": [
    "def json2dict(api):\n",
    "    \"\"\"Function wrapper for financial_data_by_year. It just iterates over a list of years and returns a defaultdict.\"\"\"\n",
    "    jsondict=defaultdict(list)\n",
    "    keys =[year for year in range(2000,2019)]\n",
    "    jsondict=financial_data_by_year(api, *keys)\n",
    "    return jsondict"
   ]
  },
  {
   "cell_type": "markdown",
   "metadata": {},
   "source": [
    "<h3 style=\"color: blue;\">Query Function</h3>\n",
    "<p> This cell is inserted so the json2dict function doesn't need to be repeatedly called for the following functions.\n",
    "This function is generalized to answer multiple queries.</p>"
   ]
  },
  {
   "cell_type": "code",
   "execution_count": 50,
   "metadata": {
    "collapsed": true
   },
   "outputs": [],
   "source": [
    "dict_data=json2dict(API)"
   ]
  },
  {
   "cell_type": "code",
   "execution_count": 95,
   "metadata": {},
   "outputs": [],
   "source": [
    "def financial_query(api,query,*years):\n",
    "    \"\"\"Open price is the 2nd element of the row data. Skips over empty rows. Edited to be more flexible.\n",
    "    Now allows multiple queries\"\"\"\n",
    "    if query.lower().strip() == 'high' or query.strip() == 'low':\n",
    "        high=0\n",
    "        low=0\n",
    "        for year in years:\n",
    "            for row in dict_data[year]:\n",
    "                try:\n",
    "                    assert type(row[1]) != type(None)\n",
    "                    if row[1] > high : high = row[1]\n",
    "                    elif row[1] <= low: low = row[1]\n",
    "                except AssertionError: pass\n",
    "        return high, low\n",
    "    elif query.lower().strip() == 'change':\n",
    "        diff = 0 \n",
    "        for year in years:\n",
    "            for row in dict_data[year]:\n",
    "                try:\n",
    "                    assert all([row[2],row[3]]) #asserts neither are null\n",
    "                    change = abs(row[2]-row[3])\n",
    "                    if diff < change: diff = change\n",
    "                except AssertionError: pass\n",
    "        return diff"
   ]
  },
  {
   "cell_type": "markdown",
   "metadata": {},
   "source": [
    "<h3 style=\"color: blue;\">Finding Highest and Lowest Opening Prices</h3>\n",
    "<p>Here the highest and lowest opening stock opening prices are calculated.</p>"
   ]
  },
  {
   "cell_type": "code",
   "execution_count": 96,
   "metadata": {},
   "outputs": [],
   "source": [
    "high,low = financial_query(API,'high',2017)"
   ]
  },
  {
   "cell_type": "markdown",
   "metadata": {},
   "source": [
    "<h3 style=\"color: blue;\">Finding Largest Fluctuation</h3>\n",
    "<p>Here the greatest difference in opening and closing prices are calculated.</p>"
   ]
  },
  {
   "cell_type": "code",
   "execution_count": 100,
   "metadata": {},
   "outputs": [],
   "source": [
    "diff= financial_query(API,'change',2017)"
   ]
  },
  {
   "cell_type": "markdown",
   "metadata": {},
   "source": [
    "<h3 style=\"color: blue;\">Finding Largest Fluctuation</h3>\n",
    "<p>Here the greatest difference in opening and closing prices are calculated.</p>"
   ]
  },
  {
   "cell_type": "code",
   "execution_count": null,
   "metadata": {
    "collapsed": true
   },
   "outputs": [],
   "source": []
  }
 ],
 "metadata": {
  "kernelspec": {
   "display_name": "Python 3",
   "language": "python",
   "name": "python3"
  },
  "language_info": {
   "codemirror_mode": {
    "name": "ipython",
    "version": 3
   },
   "file_extension": ".py",
   "mimetype": "text/x-python",
   "name": "python",
   "nbconvert_exporter": "python",
   "pygments_lexer": "ipython3",
   "version": "3.6.3"
  }
 },
 "nbformat": 4,
 "nbformat_minor": 1
}
