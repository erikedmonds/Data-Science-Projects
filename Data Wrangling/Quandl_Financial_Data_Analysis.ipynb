{
 "cells": [
  {
   "cell_type": "markdown",
   "metadata": {
    "collapsed": true
   },
   "source": [
    "<h2 style=\"color: blue;\">API Data Wrangling</h2>\n",
    "<p>This notebook does data wrangling using financia data from the Quandl API. The API token has been removed. The code was made as reusable as possible, while still being specific to a dataset.</p>"
   ]
  },
  {
   "cell_type": "code",
   "execution_count": 56,
   "metadata": {
    "collapsed": false
   },
   "outputs": [],
   "source": [
    "import requests\n",
    "import re\n",
    "import math\n",
    "from collections import defaultdict\n",
    "from statistics import median"
   ]
  },
  {
   "cell_type": "code",
   "execution_count": 2,
   "metadata": {
    "collapsed": true
   },
   "outputs": [],
   "source": [
    "#Insert your API here. As long as it's valid, the rest of the code will do the rest. --> API=''\n",
    "url = 'https://www.quandl.com/api/v3/datasets/FSE/AFX_X/data.json?{!s}'.format(API)"
   ]
  },
  {
   "cell_type": "markdown",
   "metadata": {},
   "source": [
    "<h3 style=\"color: blue;\">Extracting 2018 Data</h3>\n",
    "<p>This function does the data wrangling. It takes an API and queries the Quandl AFX_X database.\n",
    "    It returns a list of all rows of data from 2018.</p>"
   ]
  },
  {
   "cell_type": "code",
   "execution_count": 3,
   "metadata": {
    "collapsed": true
   },
   "outputs": [],
   "source": [
    "def financial_data_by_year(api,*args):\n",
    "    \"\"\"Updated to be more flexible. List is passed and returned filled with data from the year passed\"\"\"\n",
    "    url = 'https://www.quandl.com/api/v3/datasets/FSE/AFX_X/data.json?{!s}'.format(api)\n",
    "    jsondict = defaultdict(list)\n",
    "    data = requests.get(url).json()['dataset_data']\n",
    "    for arg in args:\n",
    "        pattern = u'{!s}'.format(arg)\n",
    "        string = re.compile(pattern)\n",
    "        for row in data['data']:\n",
    "            if string.match(row[0]):\n",
    "                jsondict[arg].append(row)\n",
    "    return jsondict"
   ]
  },
  {
   "cell_type": "markdown",
   "metadata": {},
   "source": [
    "<p>This is the instantiation that contains the list of rows from 2018</p>"
   ]
  },
  {
   "cell_type": "code",
   "execution_count": 4,
   "metadata": {
    "collapsed": true
   },
   "outputs": [],
   "source": [
    "result=financial_data_by_year(API,2017)"
   ]
  },
  {
   "cell_type": "markdown",
   "metadata": {},
   "source": [
    "<h3 style=\"color: blue;\">Converting Json to a Dict</h3>\n",
    "<p>This section turns the json dataset into a python dictionary</p>"
   ]
  },
  {
   "cell_type": "code",
   "execution_count": 5,
   "metadata": {
    "collapsed": true
   },
   "outputs": [],
   "source": [
    "def json2dict(api):\n",
    "    \"\"\"Function wrapper for financial_data_by_year. It just iterates over a list of years and returns a defaultdict.\"\"\"\n",
    "    jsondict=defaultdict(list)\n",
    "    keys =[year for year in range(2000,2019)]\n",
    "    jsondict=financial_data_by_year(api, *keys)\n",
    "    return jsondict"
   ]
  },
  {
   "cell_type": "markdown",
   "metadata": {},
   "source": [
    "<h3 style=\"color: blue;\">Query Function</h3>\n",
    "<p> This cell is inserted so the json2dict function doesn't need to be repeatedly called for the following functions.\n",
    "This function is generalized to answer multiple queries.</p>"
   ]
  },
  {
   "cell_type": "code",
   "execution_count": 6,
   "metadata": {
    "collapsed": true
   },
   "outputs": [],
   "source": [
    "dict_data=json2dict(API)"
   ]
  },
  {
   "cell_type": "code",
   "execution_count": 47,
   "metadata": {
    "collapsed": false
   },
   "outputs": [],
   "source": [
    "def date_range(year, span=1, interval='days'):\n",
    "    \"\"\"Takes a year, a span(interval of average), and a the range of how long to be averaged(day or month).\n",
    "    For a range of days, if 30 % range != 0, it rounds up the range up to the next even number.\n",
    "    For months, if 12 % range != 0 it will keep the range until 12/range < 1, \n",
    "    after which the range will be the remainder.\n",
    "    \"\"\"\n",
    "    if span == 1 and interval == 'days':\n",
    "        ave =0\n",
    "        for row in dict_data[year]:\n",
    "            ave += row[6]/len(dict_data[year])\n",
    "        return ave\n",
    "    elif interval == 'month':\n",
    "        if span > 12: \n",
    "            print(\"Out of range\")\n",
    "            return None\n",
    "        start = 0\n",
    "        diff = 0\n",
    "        mod = 12 % end \n",
    "        end = mod if (start + (12 % end) == 12) else start + span\n",
    "        while start != 12:\n",
    "            for mon in range(start,end):\n",
    "                ave = 0\n",
    "                try:\n",
    "                    assert dict_data[year][row][6] > 0\n",
    "                    ave += dict_data[year][row][6]/len(dict_data[year])\n",
    "                except AssertionError:\n",
    "                    pass\n",
    "            if ave > diff: diff = ave\n",
    "            start += span\n",
    "        return diff\n",
    "        \n",
    "            \n",
    "def financial_query(api,query,*years,**kwargs):\n",
    "    \"\"\"Open price is the 2nd element of the row data. Skips over empty rows. Edited to be more flexible.\n",
    "    Now allows multiple queries, and a range to compare dates \"\"\"\n",
    "    if query.lower().strip() == 'extremes':\n",
    "        high=0\n",
    "        low=0\n",
    "        for year in years:\n",
    "            for row in dict_data[year]:\n",
    "                try:\n",
    "                    assert type(row[1]) != type(None)\n",
    "                    if row[1] > high : high = row[1]\n",
    "                    elif row[1] <= low: low = row[1]\n",
    "                except AssertionError: pass\n",
    "        return high, low\n",
    "    elif query.lower().strip() == 'change':\n",
    "        for year in years:\n",
    "            return date_range(year,1)\n",
    "    elif query.lower().strip() == 'difference':\n",
    "        change = 0 \n",
    "        for year in years:\n",
    "            for row in dict_data[year]:\n",
    "                index = 0\n",
    "                high_1st = row[4]\n",
    "                for index in range(dict_data[year].index(row), len(dict_data[year])):\n",
    "                    high_2nd = dict_data[year][index][4]\n",
    "                    change = abs(high_2nd-high_1st) if abs(high_2nd - high_1st) > change else change\n",
    "        return change\n",
    "    elif query.lower().strip() == 'range':\n",
    "        if kwargs.keys() in ['span','interval']:\n",
    "            for year in years:\n",
    "                return date_range(year, **kwargs.values())\n",
    "    elif query.lower().strip() == 'average':\n",
    "        if kwargs.keys() in ['span','interval']:\n",
    "            for year in years:\n",
    "                return date_range(year, **kwargs.values())\n",
    "        else:\n",
    "            for year in years:\n",
    "                return date_range(year)\n",
    "    elif query.lower().strip() == 'median':\n",
    "        for year in years:\n",
    "            trading_vol=[]\n",
    "            for row in dict_data[year]:\n",
    "                trading_vol.append(row[6])\n",
    "                return median(trading_vol)"
   ]
  },
  {
   "cell_type": "markdown",
   "metadata": {},
   "source": [
    "<h3 style=\"color: blue;\">Finding Highest and Lowest Opening Prices</h3>\n",
    "<p>Here the highest and lowest opening stock opening prices are calculated. The functionality is added \n",
    "to the financial_query function.</p>"
   ]
  },
  {
   "cell_type": "code",
   "execution_count": 31,
   "metadata": {
    "collapsed": false
   },
   "outputs": [],
   "source": [
    "high,low = financial_query(API,'extremes',2017)"
   ]
  },
  {
   "cell_type": "markdown",
   "metadata": {},
   "source": [
    "<h3 style=\"color: blue;\">Finding Largest Fluctuation (One Day)</h3>\n",
    "<p>Here the greatest difference in opening and closing prices are calculated. The functionality is added \n",
    "to the financial_query function.</p>"
   ]
  },
  {
   "cell_type": "code",
   "execution_count": 37,
   "metadata": {
    "collapsed": false
   },
   "outputs": [],
   "source": [
    "diff= financial_query(API,'change',2017)"
   ]
  },
  {
   "cell_type": "markdown",
   "metadata": {},
   "source": [
    "<h3 style=\"color: blue;\">Finding Largest Fluctuation (Two Days)</h3>\n",
    "<p>Here the greatest difference in opening and closing prices between any two days are calculated.\n",
    "The functionality is added to the financial_query function.</p>"
   ]
  },
  {
   "cell_type": "code",
   "execution_count": 39,
   "metadata": {
    "collapsed": false
   },
   "outputs": [],
   "source": [
    "fluctuation = financial_query(API, 'difference ',2017)"
   ]
  },
  {
   "cell_type": "markdown",
   "metadata": {},
   "source": [
    "<h3 style=\"color: blue;\">Finding the Daily Average</h3>\n",
    "<p>The average of daily volume for the year is taken. The function was also generalized to allow search by year, and for different ranges <br>(average by month or year). The functionality is added \n",
    "to the financial_query function.</p>"
   ]
  },
  {
   "cell_type": "code",
   "execution_count": 48,
   "metadata": {
    "collapsed": false
   },
   "outputs": [],
   "source": [
    "average = financial_query(API,'average',2017)"
   ]
  },
  {
   "cell_type": "markdown",
   "metadata": {
    "collapsed": false
   },
   "source": [
    "<h3 style=\"color: blue;\"><i>Optional</i>: Finding the Median For the Year</h3>\n",
    "<p>This section returns the median value for the year.</p>"
   ]
  },
  {
   "cell_type": "code",
   "execution_count": null,
   "metadata": {
    "collapsed": true
   },
   "outputs": [],
   "source": [
    "trading_median = financial_query(API,'average',2017)"
   ]
  }
 ],
 "metadata": {
  "kernelspec": {
   "display_name": "Python 2",
   "language": "python",
   "name": "python2"
  },
  "language_info": {
   "codemirror_mode": {
    "name": "ipython",
    "version": 2
   },
   "file_extension": ".py",
   "mimetype": "text/x-python",
   "name": "python",
   "nbconvert_exporter": "python",
   "pygments_lexer": "ipython2",
   "version": "2.7.14"
  }
 },
 "nbformat": 4,
 "nbformat_minor": 1
}
