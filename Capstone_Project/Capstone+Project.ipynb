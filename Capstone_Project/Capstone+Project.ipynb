{
 "cells": [
  {
   "cell_type": "code",
   "execution_count": 2,
   "metadata": {},
   "outputs": [],
   "source": [
    "import pandas as pd\n",
    "import kaggle\n",
    "import zipfile\n",
    "import re\n",
    "import os"
   ]
  },
  {
   "cell_type": "code",
   "execution_count": 4,
   "metadata": {},
   "outputs": [],
   "source": [
    "url = \"https://data.cityofchicago.org/resource/6zsd-86xi.json\""
   ]
  },
  {
   "cell_type": "code",
   "execution_count": 10,
   "metadata": {},
   "outputs": [],
   "source": [
    "%%capture\n",
    "kaggle.api.dataset_download_files(\"currie32/crimes-in-chicago\")\n",
    "zipfile.ZipFile(\"crimes-in-chicago.zip\").extractall()\n",
    "os.remove(\"crimes-in-chicago.zip\")\n",
    "with os.scandir() as it:\n",
    "    csv = re.compile(\"csv\")\n",
    "    files = [entry for entry in it if csv.search(entry.name)]\n",
    "dataframes = [pd.read_csv(open(file_name), error_bad_lines=False) for file_name in files]\n",
    "dataframes.append(pd.read_csv(url, error_bad_lines=False))\n",
    "dataset = pd.concat(dataframes, join=\"inner\")"
   ]
  },
  {
   "cell_type": "code",
   "execution_count": 7,
   "metadata": {
    "collapsed": true
   },
   "outputs": [],
   "source": [
    "for file_name in files:\n",
    "    os.remove(file_name)"
   ]
  },
  {
   "cell_type": "code",
   "execution_count": 8,
   "metadata": {},
   "outputs": [
    {
     "name": "stdout",
     "output_type": "stream",
     "text": [
      "Capstone Project.ipynb  \u001b[0m\u001b[34;42mData\u001b[0m/  Readme.md  \u001b[01;31mcrimes-in-chicago.zip\u001b[0m\r\n"
     ]
    }
   ],
   "source": []
  },
  {
   "cell_type": "code",
   "execution_count": 9,
   "metadata": {
    "collapsed": true
   },
   "outputs": [],
   "source": []
  },
  {
   "cell_type": "code",
   "execution_count": null,
   "metadata": {
    "collapsed": true
   },
   "outputs": [],
   "source": []
  }
 ],
 "metadata": {
  "kernelspec": {
   "display_name": "Python 3",
   "language": "python",
   "name": "python3"
  },
  "language_info": {
   "codemirror_mode": {
    "name": "ipython",
    "version": 3
   },
   "file_extension": ".py",
   "mimetype": "text/x-python",
   "name": "python",
   "nbconvert_exporter": "python",
   "pygments_lexer": "ipython3",
   "version": "3.6.3"
  }
 },
 "nbformat": 4,
 "nbformat_minor": 2
}
